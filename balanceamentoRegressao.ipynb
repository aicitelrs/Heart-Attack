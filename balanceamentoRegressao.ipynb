{
 "cells": [
  {
   "cell_type": "markdown",
   "metadata": {},
   "source": [
    "### Balanceamento"
   ]
  },
  {
   "cell_type": "code",
   "execution_count": 52,
   "metadata": {},
   "outputs": [
    {
     "data": {
      "text/plain": [
       "(253680, 58)"
      ]
     },
     "execution_count": 52,
     "metadata": {},
     "output_type": "execute_result"
    }
   ],
   "source": [
    "# carregar dataset\n",
    "import numpy as np\n",
    "import pandas as pd\n",
    "from imblearn.under_sampling import RandomUnderSampler\n",
    "from sklearn.model_selection import train_test_split\n",
    "from collections import Counter\n",
    "from sklearn.linear_model import LogisticRegression\n",
    "from sklearn.metrics import classification_report\n",
    "from utils import readDataframe_parquet\n",
    "from utils import transformData\n",
    "\n",
    "\n",
    "\n",
    "dados = pd.read_parquet('data/heart_disease.parquet') \n",
    "\n",
    "# Transformação do dataset para incluir dummies e conversões\n",
    "df_transformed = transformData(dados)\n",
    "\n",
    "df_transformed.head()\n",
    "df_transformed.shape"
   ]
  },
  {
   "cell_type": "code",
   "execution_count": 66,
   "metadata": {},
   "outputs": [],
   "source": [
    "x = df_transformed.drop(['HeartDiseaseorAttack','Education_College 1-3', 'Education_College 4 ou mais', 'Education_Grades 1-8', 'Education_Grades 12 ou GED', 'Education_Grades 9-11', 'MentHlth', 'PhysHlth'], axis=1)\n",
    "y = df_transformed['HeartDiseaseorAttack']"
   ]
  },
  {
   "cell_type": "code",
   "execution_count": 67,
   "metadata": {},
   "outputs": [
    {
     "data": {
      "text/plain": [
       "HeartDiseaseorAttack\n",
       "0.0    229787\n",
       "1.0     23893\n",
       "Name: count, dtype: int64"
      ]
     },
     "execution_count": 67,
     "metadata": {},
     "output_type": "execute_result"
    }
   ],
   "source": [
    "y.value_counts()"
   ]
  },
  {
   "cell_type": "code",
   "execution_count": 68,
   "metadata": {},
   "outputs": [],
   "source": [
    "x_train, x_test, y_train, y_test = train_test_split(x, y, test_size=0.33, random_state=42)"
   ]
  },
  {
   "cell_type": "code",
   "execution_count": 69,
   "metadata": {},
   "outputs": [
    {
     "data": {
      "text/plain": [
       "HeartDiseaseorAttack\n",
       "0.0    153915\n",
       "1.0     16050\n",
       "Name: count, dtype: int64"
      ]
     },
     "execution_count": 69,
     "metadata": {},
     "output_type": "execute_result"
    }
   ],
   "source": [
    "y_train.value_counts()"
   ]
  },
  {
   "cell_type": "code",
   "execution_count": 70,
   "metadata": {},
   "outputs": [
    {
     "name": "stdout",
     "output_type": "stream",
     "text": [
      "Contagem antes do balanceamento: Counter({0.0: 153915, 1.0: 16050})\n"
     ]
    }
   ],
   "source": [
    "# Contagem de classes antes do balanceamento\n",
    "print('Contagem antes do balanceamento:', Counter(y_train))"
   ]
  },
  {
   "cell_type": "code",
   "execution_count": 71,
   "metadata": {},
   "outputs": [
    {
     "name": "stdout",
     "output_type": "stream",
     "text": [
      "Contagem após o balanceamento: Counter({0.0: 16050, 1.0: 16050})\n"
     ]
    }
   ],
   "source": [
    "# Aplica RandomUnderSampler para reduzir a classe majoritária\n",
    "undersample = RandomUnderSampler(random_state=42)\n",
    "x_train_balanced, y_train_balanced = undersample.fit_resample(x_train, y_train)\n",
    "\n",
    "# Contagem de classes após o balanceamento\n",
    "print('Contagem após o balanceamento:', Counter(y_train_balanced))"
   ]
  },
  {
   "cell_type": "code",
   "execution_count": 72,
   "metadata": {},
   "outputs": [
    {
     "data": {
      "text/plain": [
       "HeartDiseaseorAttack\n",
       "0.0    16050\n",
       "1.0    16050\n",
       "Name: count, dtype: int64"
      ]
     },
     "execution_count": 72,
     "metadata": {},
     "output_type": "execute_result"
    }
   ],
   "source": [
    "y_train_balanced.value_counts()"
   ]
  },
  {
   "cell_type": "code",
   "execution_count": 73,
   "metadata": {},
   "outputs": [
    {
     "name": "stdout",
     "output_type": "stream",
     "text": [
      "              precision    recall  f1-score   support\n",
      "\n",
      "         0.0       0.97      0.75      0.85     75872\n",
      "         1.0       0.25      0.80      0.38      7843\n",
      "\n",
      "    accuracy                           0.75     83715\n",
      "   macro avg       0.61      0.77      0.61     83715\n",
      "weighted avg       0.90      0.75      0.80     83715\n",
      "\n"
     ]
    }
   ],
   "source": [
    "\n",
    "logistica = LogisticRegression(random_state=1,max_iter=200,penalty='l2',\n",
    "                               tol=0.0001, C=1,solver ='lbfgs')\n",
    "logistica.fit(x_train_balanced, y_train_balanced)\n",
    "\n",
    "# Fazer previsões\n",
    "\n",
    "previsores_logistica = logistica.predict(x_test)\n",
    "previsores_logistica\n",
    "\n",
    "# métricas do modelo\n",
    "print(classification_report(y_test,previsores_logistica))\n",
    "\n"
   ]
  },
  {
   "cell_type": "code",
   "execution_count": 61,
   "metadata": {},
   "outputs": [
    {
     "data": {
      "text/plain": [
       "HeartDiseaseorAttack  HighBP  HighChol  CholCheck  Smoker  Stroke  PhysActivity  Fruits  Veggies  HvyAlcoholConsump  AnyHealthcare  NoDocbcCost  MentHlth  PhysHlth  DiffWalk  Sex  BMI_Abaixo do peso  BMI_Obesidade Grau I  BMI_Obesidade Grau II  BMI_Obesidade Grau III  BMI_Peso normal  BMI_Peso normal baixo  BMI_Sobrepeso  Diabetes_Diabético  Diabetes_Não possui diabetes  Diabetes_Pré-diabético  GenHlth_Boa  GenHlth_Execelente  GenHlth_Moderada  GenHlth_Pobre  GenHlth_Ruim  Age_18-24  Age_25-29  Age_30-34  Age_35-39  Age_40-44  Age_45-49  Age_50-54  Age_55-59  Age_60-64  Age_65-69  Age_70-74  Age_75-79  Age_Mais de 80  Education_College 1-3  Education_College 4 ou mais  Education_Grades 1-8  Education_Grades 12 ou GED  Education_Grades 9-11  Education_Nunca foi a escola (ou apenas foi à pré-escola)  Income_$10000-$14000  Income_$15000-$19999  Income_$20000-$24999  Income_$25000-$34999  Income_$35000-$49999  Income_$50000-$74999  Income_$75000 ou mais  Income_Menos de $10000\n",
       "0.0                   0.0     0.0       1.0        0.0     0.0     1.0           1.0     1.0      0.0                1.0            0.0          0.0       0.0       0.0       0.0  0                   0                     0                      0                       1                0                      0              0                   1                             0                       0            1                   0                 0              0             0          0          0          0          0          1          0          0          0          0          0          0          0               0                      1                            0                     0                           0                      0                                                          0                     0                     0                     0                     0                     0                     1                      0                         254\n",
       "                                                                                                                                                                                                                                                                                                                                                                                                                                                                                                                                                     0          1          0          0          0          0          0          0               0                      1                            0                     0                           0                      0                                                          0                     0                     0                     0                     0                     0                     1                      0                         238\n",
       "                                                                                                                                                                                                                                                                                                                                                                                                                                                                                                                                                                0          1          0          0          0          0          0               0                      1                            0                     0                           0                      0                                                          0                     0                     0                     0                     0                     0                     1                      0                         215\n",
       "                                                                                                                                                                                                                                                                                                                                                                                                                                                                                                                                          1          0          0          0          0          0          0          0          0               0                      1                            0                     0                           0                      0                                                          0                     0                     0                     0                     0                     0                     1                      0                         213\n",
       "                                                                                                                                                                                                                                                                                                                                                                                                                                                                                                                                          0          0          0          0          1          0          0          0          0               0                      1                            0                     0                           0                      0                                                          0                     0                     0                     0                     0                     0                     1                      0                         164\n",
       "                                                                                                                                                                                                                                                                                                                                                                                                                                                                                                                                                                                                                                                                                                                                                                                                                                                                                                                                                                                                                              ... \n",
       "                              1.0       1.0        0.0     0.0     0.0           0.0     1.0      0.0                0.0            1.0          30.0      0.0       0.0       0.0  0                   1                     0                      0                       0                0                      0              0                   1                             0                       0            0                   1                 0              0             0          0          0          1          0          0          0          0          0          0          0          0          0               1                      0                            0                     0                           0                      0                                                          0                     0                     0                     0                     0                     1                     0                      0                           1\n",
       "                                                                                                                                                           30.0      0.0       0.0  0                   0                     0                      0                       0                0                      1              0                   1                             0                       0            0                   0                 1              0             0          0          0          0          0          0          1          0          0          0          0          0          0               1                      0                            0                     0                           0                      0                                                          1                     0                     0                     0                     0                     0                     0                      0                           1\n",
       "                                                                                                                                                                                                                              1                      0                       0                0                      0              0                   1                             0                       0            0                   0                 0              1             0          0          0          0          0          0          1          0          0          0          0          0          0               0                      1                            0                     0                           0                      0                                                          1                     0                     0                     0                     0                     0                     0                      0                           1\n",
       "                                                                                                                                                                     1.0       0.0  0                   0                     1                      0                       0                0                      0              0                   0                             1                       0            0                   0                 1              0             0          0          0          0          0          1          0          0          0          0          0          0          0               1                      0                            0                     0                           0                      0                                                          0                     0                     0                     1                     0                     0                     0                      0                           1\n",
       "1.0                   1.0     1.0       1.0        1.0     1.0     1.0           1.0     1.0      1.0                1.0            1.0          14.0      7.0       1.0       1.0  0                   0                     0                      0                       0                0                      1              1                   0                             0                       0            0                   0                 0              1             0          0          0          0          0          0          0          0          0          0          1          0          0               0                      1                            0                     0                           0                      0                                                          0                     1                     0                     0                     0                     0                     0                      0                           1\n",
       "Name: count, Length: 208369, dtype: int64"
      ]
     },
     "execution_count": 61,
     "metadata": {},
     "output_type": "execute_result"
    }
   ],
   "source": [
    "df_transformed.value_counts()"
   ]
  },
  {
   "cell_type": "code",
   "execution_count": 74,
   "metadata": {},
   "outputs": [],
   "source": [
    "import pickle\n",
    "\n",
    "# Salvar o modelo com pickle\n",
    "with open('Models/regressao2_model.pkl', 'wb') as f:\n",
    "    pickle.dump(logistica, f)\n"
   ]
  }
 ],
 "metadata": {
  "kernelspec": {
   "display_name": "Python 3",
   "language": "python",
   "name": "python3"
  },
  "language_info": {
   "codemirror_mode": {
    "name": "ipython",
    "version": 3
   },
   "file_extension": ".py",
   "mimetype": "text/x-python",
   "name": "python",
   "nbconvert_exporter": "python",
   "pygments_lexer": "ipython3",
   "version": "3.10.9"
  }
 },
 "nbformat": 4,
 "nbformat_minor": 2
}
